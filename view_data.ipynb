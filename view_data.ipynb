{
 "cells": [
  {
   "cell_type": "code",
   "execution_count": 3,
   "metadata": {},
   "outputs": [],
   "source": [
    "# Imports\n",
    "import pandas as pd\n",
    "import numpy as np\n",
    "from sklearn.model_selection import train_test_split\n",
    "from sklearn.preprocessing import StandardScaler, OneHotEncoder\n",
    "from sklearn.compose import ColumnTransformer\n",
    "from sklearn.pipeline import Pipeline\n",
    "from sklearn.impute import SimpleImputer\n",
    "from sklearn.ensemble import RandomForestClassifier \n"
   ]
  },
  {
   "cell_type": "markdown",
   "metadata": {},
   "source": [
    "## Examine the Data\n",
    "\n",
    "The data needs to be examined to clean and wrangle what we need from it. "
   ]
  },
  {
   "cell_type": "code",
   "execution_count": 4,
   "metadata": {},
   "outputs": [
    {
     "name": "stdout",
     "output_type": "stream",
     "text": [
      "The data frame is 292356715 its' shape is (8353049, 35), This is large so we need to do some cleaning and wrangling.\n"
     ]
    }
   ],
   "source": [
    "# Load Data and get information on it. \n",
    "df = pd.read_csv(\"data/complaints.csv\", low_memory=False)\n",
    "print(f\"The data frame is {df.size} its' shape is {df.shape}, This is large so we need to do some cleaning and wrangling.\")\n"
   ]
  },
  {
   "cell_type": "markdown",
   "metadata": {},
   "source": [
    "## Here is a definition table of the columns. \n",
    "\n",
    "Metadata definitions are imperative to understand so that data can be analyzed effectively. After reviewing the data [here](https://data.cityofnewyork.us/api/views/57mv-nv28/files/5355df15-d454-486c-9796-6f894e311ef7?download=true&filename=NYPDIncidentLevelDataFootnotes.pdf) and [here](https://data.cityofnewyork.us/api/views/57mv-nv28/files/cd8fdc0b-e645-4a37-8cc1-27d95e7666b7?download=true&filename=NYPD_Incident_Level_Data_Column_Descriptions.csv), I have created a table of all of the metadata and actions I may want to utilize.\n",
    "\n",
    "\n",
    "| No. | Column            | Action                      | Potential Use          | Rationale                                                         |\n",
    "|-----|-------------------|-----------------------------|------------------------|-------------------------------------------------------------------|\n",
    "| 1   | CMPLNT_NUM        | Keep                        | Identifier             | Unique identifier for each complaint, useful for record tracking. |\n",
    "| 2   | CMPLNT_FR_DT      | Merge with CMPLNT_FR_TM     | Temporal analysis      | Combined with time for precise datetime of incidents.             |\n",
    "| 3   | CMPLNT_FR_TM      | Merge with CMPLNT_FR_DT     | Temporal analysis      | Combined with date for precise datetime of incidents.             |\n",
    "| 4   | CMPLNT_TO_DT      | Merge with CMPLNT_TO_TM     | Temporal analysis      | Ending datetime of incidents can be useful for duration analysis. |\n",
    "| 5   | CMPLNT_TO_TM      | Merge with CMPLNT_TO_DT     | Temporal analysis      | Ending datetime of incidents can be useful for duration analysis. |\n",
    "| 6   | RPT_DT            | Drop                        | -                      | Report date may not directly impact fare safety.                  |\n",
    "| 7   | KY_CD             | Keep                        | Categorical analysis   | Crime type can be relevant for assessing danger levels.           |\n",
    "| 8   | OFNS_DESC         | Keep                        | Categorical analysis   | Descriptive analysis of offense types.                            |\n",
    "| 9   | PD_CD             | Keep                        | Categorical analysis   | Granular details on offenses can help refine danger assessments.  |\n",
    "| 10  | PD_DESC           | Keep                        | Categorical analysis   | Detailed descriptions provide context for ML models.              |\n",
    "| 11  | CRM_ATPT_CPTD_CD  | Keep                        | Binary classification  | Indicator of crime completion may correlate with danger levels.   |\n",
    "| 12  | LAW_CAT_CD        | Keep                        | Categorical analysis   | Severity of crime can be a strong indicator of danger.            |\n",
    "| 13  | JURIS_DESC        | Drop                        | -                      | Jurisdiction may not be relevant for fare safety analysis.        |\n",
    "| 14  | BORO_NM           | Keep                        | Geospatial analysis    | Borough name can be used for location-based analysis.             |\n",
    "| 15  | ADDR_PCT_CD       | Keep                        | Geospatial analysis    | Precinct info can help in location-based danger assessment.       |\n",
    "| 16  | LOC_OF_OCCUR_DESC | Keep                        | Categorical/Text analysis | Location description can provide context to the incident.     |\n",
    "| 17  | PREM_TYP_DESC     | Keep                        | Categorical/Text analysis | Premises type can be relevant for understanding crime context. |\n",
    "| 18  | PARKS_NM          | Drop                        | -                      | Specific park names may not be relevant for fare safety.          |\n",
    "| 19  | HADEVELOPT        | Drop                        | -                      | Housing development names may not be directly relevant.           |\n",
    "| 20  | X_COORD_CD        | Keep                        | Geospatial analysis    | Coordinates can be crucial for mapping crime locations.           |\n",
    "| 21  | Y_COORD_CD        | Keep                        | Geospatial analysis    | Coordinates can be crucial for mapping crime locations.           |\n",
    "| 22  | Latitude          | Keep                        | Geospatial analysis    | Latitude for mapping and proximity analysis.                      |\n",
    "| 23  | Longitude         | Keep                        | Geospatial analysis    | Longitude for mapping and proximity analysis.                     |\n",
    "| 24  | SUSP_AGE_GROUP    | Drop                        | -                      | Suspect's age may not significantly impact fare safety.           |\n",
    "| 25  | SUSP_RACE         | Drop                        | -                      | Suspect's race may not be relevant and poses ethical concerns.    |\n",
    "| 26  | SUSP_SEX          | Drop                        | -                      | Suspect's sex may not be directly relevant to fare safety.        |\n",
    "| 27  | TRANSIT_DISTRICT  | Drop                        | -                      | Transit district may not be directly relevant for rideshare/taxi analysis. |\n",
    "| 28  | Latitude           | Keep (Duplicate)             | Geospatial analysis                            | Duplicate, but necessary for geospatial analysis. |\n",
    "| 29  | Longitude          | Keep (Duplicate)             | Geospatial analysis                            | Duplicate, but necessary for geospatial analysis. |\n",
    "| 30  | Lat_Lon            | Drop                         | -                                              | Redundant with separate latitude and longitude columns. |\n",
    "| 31  | PATROL_BORO        | Keep                         | Geospatial analysis                            | Patrol borough can provide additional geospatial context. |\n",
    "| 32  | STATION_NAME       | Drop                         | -                                              | Station names may not be directly relevant for fare safety. |\n",
    "| 33  | VIC_AGE_GROUP      | Drop                         | -                                              | Victim's age may not significantly impact fare safety. |\n",
    "| 34  | VIC_RACE           | Drop                         | -                                              | Victim's race may not be relevant and poses ethical concerns. |\n",
    "| 35  | VIC_SEX            | Drop                         | -                                              | Victim's sex may not be directly relevant to fare safety. |\n",
    "\n",
    "\n",
    "## Take Initial Actions"
   ]
  },
  {
   "cell_type": "code",
   "execution_count": 5,
   "metadata": {},
   "outputs": [
    {
     "name": "stdout",
     "output_type": "stream",
     "text": [
      "Invalid dates in CMPLNT_FR_DT: 796 (0.01%)\n",
      "Invalid times in CMPLNT_FR_TM: 48 (0.00%)\n",
      "Some problematic date entries:\n",
      "        CMPLNT_FR_DT CMPLNT_FR_TM\n",
      "5083246          NaN     08:15:00\n",
      "5083247          NaN     12:15:00\n",
      "5083265          NaN     01:45:00\n",
      "5083283          NaN     11:57:00\n",
      "5083306          NaN     14:00:00\n"
     ]
    }
   ],
   "source": [
    "# Check for out-of-range or invalid dates\n",
    "invalid_dates = pd.to_datetime(df['CMPLNT_FR_DT'], errors='coerce').isna().sum()\n",
    "invalid_times = pd.to_datetime(df['CMPLNT_FR_TM'], format='%H:%M:%S', errors='coerce').isna().sum()\n",
    "\n",
    "print(f\"Invalid dates in CMPLNT_FR_DT: {invalid_dates} ({(invalid_dates / len(df) * 100):.2f}%)\")\n",
    "print(f\"Invalid times in CMPLNT_FR_TM: {invalid_times} ({(invalid_times / len(df) * 100):.2f}%)\")\n",
    "\n",
    "# Optionally, you can also see some of the problematic entries\n",
    "print(\"Some problematic date entries:\")\n",
    "print(df[df['CMPLNT_FR_DT'].isna() | df['CMPLNT_FR_TM'].isna()][['CMPLNT_FR_DT', 'CMPLNT_FR_TM']].head())\n"
   ]
  },
  {
   "cell_type": "code",
   "execution_count": 6,
   "metadata": {},
   "outputs": [],
   "source": [
    "# Drop the messed up dates:\n",
    "df = df.dropna(subset=['CMPLNT_FR_DT', 'CMPLNT_FR_TM'])"
   ]
  },
  {
   "cell_type": "code",
   "execution_count": 7,
   "metadata": {},
   "outputs": [],
   "source": [
    "# Merge CMPLNT_FR_DT and CMPLNT_FR_TM\n",
    "df['CMPLNT_FR_DT'] = pd.to_datetime(df['CMPLNT_FR_DT'] + ' ' + df['CMPLNT_FR_TM'], errors='coerce')\n",
    "df.drop('CMPLNT_FR_TM', axis=1, inplace=True)\n",
    "\n",
    "# Merge CMPLNT_TO_DT and CMPLNT_TO_TM\n",
    "df['CMPLNT_TO_DT'] = pd.to_datetime(df['CMPLNT_TO_DT'] + ' ' + df['CMPLNT_TO_TM'], errors='coerce')\n",
    "df.drop('CMPLNT_TO_TM', axis=1, inplace=True)\n",
    "\n",
    "# Select the Year 2022\n",
    "df = df[df['CMPLNT_FR_DT'].dt.year == 2022]\n"
   ]
  },
  {
   "cell_type": "code",
   "execution_count": 8,
   "metadata": {},
   "outputs": [
    {
     "name": "stdout",
     "output_type": "stream",
     "text": [
      "                   Missing Values  Percentage (%)                Action  \\\n",
      "TRANSIT_DISTRICT           509575           97.87     Consider Dropping   \n",
      "CMPLNT_TO_DT                38067            7.31  Potential Imputation   \n",
      "PD_CD                         410            0.08  Potential Imputation   \n",
      "ADDR_PCT_CD                    26            0.00  Potential Imputation   \n",
      "Lat_Lon                         3            0.00  Potential Imputation   \n",
      "Longitude                       3            0.00  Potential Imputation   \n",
      "Y_COORD_CD                      3            0.00  Potential Imputation   \n",
      "Latitude                        3            0.00  Potential Imputation   \n",
      "X_COORD_CD                      3            0.00  Potential Imputation   \n",
      "HOUSING_PSA                     0            0.00      No Action Needed   \n",
      "PATROL_BORO                     0            0.00      No Action Needed   \n",
      "STATION_NAME                    0            0.00      No Action Needed   \n",
      "VIC_AGE_GROUP                   0            0.00      No Action Needed   \n",
      "SUSP_SEX                        0            0.00      No Action Needed   \n",
      "SUSP_RACE                       0            0.00      No Action Needed   \n",
      "SUSP_AGE_GROUP                  0            0.00      No Action Needed   \n",
      "VIC_RACE                        0            0.00      No Action Needed   \n",
      "CMPLNT_NUM                      0            0.00      No Action Needed   \n",
      "PARKS_NM                        0            0.00      No Action Needed   \n",
      "HADEVELOPT                      0            0.00      No Action Needed   \n",
      "CMPLNT_FR_DT                    0            0.00      No Action Needed   \n",
      "JURISDICTION_CODE               0            0.00      No Action Needed   \n",
      "JURIS_DESC                      0            0.00      No Action Needed   \n",
      "PREM_TYP_DESC                   0            0.00      No Action Needed   \n",
      "LOC_OF_OCCUR_DESC               0            0.00      No Action Needed   \n",
      "BORO_NM                         0            0.00      No Action Needed   \n",
      "LAW_CAT_CD                      0            0.00      No Action Needed   \n",
      "CRM_ATPT_CPTD_CD                0            0.00      No Action Needed   \n",
      "PD_DESC                         0            0.00      No Action Needed   \n",
      "OFNS_DESC                       0            0.00      No Action Needed   \n",
      "KY_CD                           0            0.00      No Action Needed   \n",
      "RPT_DT                          0            0.00      No Action Needed   \n",
      "VIC_SEX                         0            0.00      No Action Needed   \n",
      "\n",
      "                  Most Common Type  \n",
      "TRANSIT_DISTRICT           float64  \n",
      "CMPLNT_TO_DT        datetime64[ns]  \n",
      "PD_CD                      float64  \n",
      "ADDR_PCT_CD                float64  \n",
      "Lat_Lon                     object  \n",
      "Longitude                  float64  \n",
      "Y_COORD_CD                 float64  \n",
      "Latitude                   float64  \n",
      "X_COORD_CD                 float64  \n",
      "HOUSING_PSA                 object  \n",
      "PATROL_BORO                 object  \n",
      "STATION_NAME                object  \n",
      "VIC_AGE_GROUP               object  \n",
      "SUSP_SEX                    object  \n",
      "SUSP_RACE                   object  \n",
      "SUSP_AGE_GROUP              object  \n",
      "VIC_RACE                    object  \n",
      "CMPLNT_NUM                  object  \n",
      "PARKS_NM                    object  \n",
      "HADEVELOPT                  object  \n",
      "CMPLNT_FR_DT        datetime64[ns]  \n",
      "JURISDICTION_CODE            int64  \n",
      "JURIS_DESC                  object  \n",
      "PREM_TYP_DESC               object  \n",
      "LOC_OF_OCCUR_DESC           object  \n",
      "BORO_NM                     object  \n",
      "LAW_CAT_CD                  object  \n",
      "CRM_ATPT_CPTD_CD            object  \n",
      "PD_DESC                     object  \n",
      "OFNS_DESC                   object  \n",
      "KY_CD                        int64  \n",
      "RPT_DT                      object  \n",
      "VIC_SEX                     object  \n"
     ]
    }
   ],
   "source": [
    "# Calculate missing values and their percentage\n",
    "missing_values = df.isnull().sum()\n",
    "percentage_missing = (missing_values / len(df)) * 100\n",
    "most_common_dtype = df.dtypes.apply(lambda x: x.name)\n",
    "\n",
    "# Determine actions based on the percentage\n",
    "def determine_action(percentage):\n",
    "    if percentage > 50:\n",
    "        return \"Consider Dropping\"\n",
    "    elif 0 < percentage <= 50:\n",
    "        return \"Potential Imputation\"\n",
    "    else:\n",
    "        return \"No Action Needed\"\n",
    "\n",
    "# Creating a summary DataFrame\n",
    "missing_summary = pd.DataFrame({\n",
    "    'Missing Values': missing_values,\n",
    "    'Percentage (%)': percentage_missing.round(2),\n",
    "    'Action': percentage_missing.apply(determine_action),\n",
    "    'Most Common Type': most_common_dtype\n",
    "})\n",
    "\n",
    "# Sorting the table from most to least missing values\n",
    "missing_summary.sort_values(by='Missing Values', ascending=False, inplace=True)\n",
    "\n",
    "print(missing_summary)\n"
   ]
  },
  {
   "cell_type": "code",
   "execution_count": 9,
   "metadata": {},
   "outputs": [
    {
     "name": "stdout",
     "output_type": "stream",
     "text": [
      "['RAPE' 'ROBBERY' 'MURDER & NON-NEGL. MANSLAUGHTER'\n",
      " 'ASSAULT 3 & RELATED OFFENSES' 'FELONY ASSAULT'\n",
      " 'VEHICLE AND TRAFFIC LAWS' 'CRIMINAL MISCHIEF & RELATED OF'\n",
      " 'UNAUTHORIZED USE OF A VEHICLE' 'GRAND LARCENY' 'DANGEROUS DRUGS'\n",
      " 'BURGLARY' 'PETIT LARCENY' 'GRAND LARCENY OF MOTOR VEHICLE'\n",
      " 'HARRASSMENT 2' 'INTOXICATED & IMPAIRED DRIVING' 'SEX CRIMES'\n",
      " 'CRIMINAL TRESPASS' 'MISCELLANEOUS PENAL LAW'\n",
      " 'OFF. AGNST PUB ORD SENSBLTY &' 'FRAUDS' 'DANGEROUS WEAPONS'\n",
      " 'AGRICULTURE & MRKTS LAW-UNCLASSIFIED' 'ALCOHOLIC BEVERAGE CONTROL LAW'\n",
      " 'ADMINISTRATIVE CODE' 'THEFT-FRAUD' 'FORGERY'\n",
      " 'NYS LAWS-UNCLASSIFIED FELONY' 'OFFENSES AGAINST THE PERSON'\n",
      " 'OFFENSES AGAINST PUBLIC ADMINI' 'THEFT OF SERVICES'\n",
      " 'POSSESSION OF STOLEN PROPERTY' 'OFFENSES INVOLVING FRAUD'\n",
      " 'PROSTITUTION & RELATED OFFENSES' 'OTHER OFFENSES RELATED TO THEF'\n",
      " 'OTHER STATE LAWS (NON PENAL LA' 'ARSON' 'HOMICIDE-NEGLIGENT,UNCLASSIFIE'\n",
      " 'PETIT LARCENY OF MOTOR VEHICLE' \"BURGLAR'S TOOLS\" 'FRAUDULENT ACCOSTING'\n",
      " 'KIDNAPPING & RELATED OFFENSES' 'JOSTLING' 'GAMBLING'\n",
      " 'OFFENSES AGAINST PUBLIC SAFETY' 'ENDAN WELFARE INCOMP'\n",
      " 'DISORDERLY CONDUCT' 'CHILD ABANDONMENT/NON SUPPORT'\n",
      " 'DISRUPTION OF A RELIGIOUS SERV' 'NYS LAWS-UNCLASSIFIED VIOLATION'\n",
      " 'OTHER STATE LAWS' 'HOMICIDE-NEGLIGENT-VEHICLE'\n",
      " 'INTOXICATED/IMPAIRED DRIVING' 'UNLAWFUL POSS. WEAP. ON SCHOOL'\n",
      " 'ANTICIPATORY OFFENSES' 'LOITERING/GAMBLING (CARDS, DIC'\n",
      " 'OFFENSES RELATED TO CHILDREN' '(null)' 'KIDNAPPING' 'FELONY SEX CRIMES'\n",
      " 'ESCAPE 3' 'CANNABIS RELATED OFFENSES' 'OTHER STATE LAWS (NON PENAL LAW)'\n",
      " 'NEW YORK CITY HEALTH CODE']\n"
     ]
    }
   ],
   "source": [
    "crime_categories = df['OFNS_DESC'].unique()\n",
    "print(crime_categories)"
   ]
  },
  {
   "cell_type": "markdown",
   "metadata": {},
   "source": [
    "## First Glance We "
   ]
  },
  {
   "cell_type": "markdown",
   "metadata": {},
   "source": []
  },
  {
   "cell_type": "code",
   "execution_count": 10,
   "metadata": {},
   "outputs": [
    {
     "name": "stdout",
     "output_type": "stream",
     "text": [
      "The cleaned data frame size is 17181813\n",
      "<bound method NDFrame.head of           CMPLNT_NUM        CMPLNT_FR_DT        CMPLNT_TO_DT  ADDR_PCT_CD  \\\n",
      "96         239164165 2022-01-07 22:00:00                 NaT         47.0   \n",
      "97         238976313 2022-01-09 09:00:00                 NaT         47.0   \n",
      "98         244480134 2022-05-02 21:43:00                 NaT         43.0   \n",
      "99         250098128 2022-08-24 20:45:00                 NaT         43.0   \n",
      "100      251103859H2 2022-09-12 04:42:00                 NaT          NaN   \n",
      "...              ...                 ...                 ...          ...   \n",
      "8353044    261171983 2022-12-30 12:31:00                 NaT        106.0   \n",
      "8353045    261175492 2022-12-31 11:56:00 2022-12-31 17:08:00         44.0   \n",
      "8353046    261147482 2022-12-30 17:20:00 2022-12-30 17:28:00         17.0   \n",
      "8353047    261179651 2022-12-31 20:20:00 2022-12-31 20:26:00        112.0   \n",
      "8353048    261157928 2022-12-31 04:00:00                 NaT         52.0   \n",
      "\n",
      "             RPT_DT  KY_CD                        OFNS_DESC  PD_CD  \\\n",
      "96       01/15/2022    104                             RAPE  157.0   \n",
      "97       01/11/2022    104                             RAPE  157.0   \n",
      "98       05/02/2022    105                          ROBBERY  396.0   \n",
      "99       08/24/2022    105                          ROBBERY  366.0   \n",
      "100      09/12/2022    101  MURDER & NON-NEGL. MANSLAUGHTER    NaN   \n",
      "...             ...    ...                              ...    ...   \n",
      "8353044  12/31/2022    341                    PETIT LARCENY  349.0   \n",
      "8353045  12/31/2022    359   OFFENSES AGAINST PUBLIC ADMINI  759.0   \n",
      "8353046  12/30/2022    344     ASSAULT 3 & RELATED OFFENSES  101.0   \n",
      "8353047  12/31/2022    348         VEHICLE AND TRAFFIC LAWS  916.0   \n",
      "8353048  12/31/2022    106                   FELONY ASSAULT  109.0   \n",
      "\n",
      "                                PD_DESC CRM_ATPT_CPTD_CD  ... SUSP_SEX  \\\n",
      "96                               RAPE 1        COMPLETED  ...        M   \n",
      "97                               RAPE 1        COMPLETED  ...        M   \n",
      "98         ROBBERY,BEGIN AS SHOPLIFTING        COMPLETED  ...        M   \n",
      "99                      ROBBERY,BICYCLE        COMPLETED  ...        M   \n",
      "100                              (null)        COMPLETED  ...        F   \n",
      "...                                 ...              ...  ...      ...   \n",
      "8353044  LARCENY,PETIT OF LICENSE PLATE        COMPLETED  ...        U   \n",
      "8353045  PUBLIC ADMINISTATION,UNCLASS M        COMPLETED  ...        F   \n",
      "8353046                       ASSAULT 3        COMPLETED  ...        M   \n",
      "8353047  LEAVING SCENE-ACCIDENT-PERSONA        COMPLETED  ...   (null)   \n",
      "8353048        ASSAULT 2,1,UNCLASSIFIED        COMPLETED  ...        M   \n",
      "\n",
      "        TRANSIT_DISTRICT   Latitude  Longitude  \\\n",
      "96                   NaN  40.887314 -73.847272   \n",
      "97                   NaN  40.887314 -73.847272   \n",
      "98                   NaN  40.833723 -73.856192   \n",
      "99                   NaN  40.831624 -73.867258   \n",
      "100                  NaN        NaN        NaN   \n",
      "...                  ...        ...        ...   \n",
      "8353044              NaN  40.675259 -73.854501   \n",
      "8353045              NaN  40.829632 -73.915209   \n",
      "8353046              NaN  40.761265 -73.968887   \n",
      "8353047              NaN  40.725681 -73.857270   \n",
      "8353048              NaN  40.870942 -73.891499   \n",
      "\n",
      "                                       Lat_Lon               PATROL_BORO  \\\n",
      "96       (40.8873136344706, -73.8472717577564)         PATROL BORO BRONX   \n",
      "97       (40.8873136344706, -73.8472717577564)         PATROL BORO BRONX   \n",
      "98                     (40.833723, -73.856192)         PATROL BORO BRONX   \n",
      "99                 (40.83162357, -73.86725846)         PATROL BORO BRONX   \n",
      "100                                        NaN   PATROL BORO BKLYN SOUTH   \n",
      "...                                        ...                       ...   \n",
      "8353044            (40.67525903, -73.85450113)  PATROL BORO QUEENS SOUTH   \n",
      "8353045                (40.829632, -73.915209)         PATROL BORO BRONX   \n",
      "8353046                (40.761265, -73.968887)     PATROL BORO MAN SOUTH   \n",
      "8353047             (40.72568117, -73.8572701)  PATROL BORO QUEENS NORTH   \n",
      "8353048                (40.870942, -73.891499)         PATROL BORO BRONX   \n",
      "\n",
      "        STATION_NAME VIC_AGE_GROUP                  VIC_RACE  VIC_SEX  \n",
      "96            (null)         18-24                     BLACK        F  \n",
      "97            (null)         25-44                     BLACK        F  \n",
      "98            (null)       UNKNOWN                   UNKNOWN        E  \n",
      "99            (null)       UNKNOWN                   UNKNOWN        M  \n",
      "100           (null)           <18                     BLACK        M  \n",
      "...              ...           ...                       ...      ...  \n",
      "8353044       (null)         25-44  ASIAN / PACIFIC ISLANDER        F  \n",
      "8353045       (null)           65+            BLACK HISPANIC        M  \n",
      "8353046       (null)         25-44                     BLACK        M  \n",
      "8353047       (null)         18-24                     WHITE        F  \n",
      "8353048       (null)         25-44                     BLACK        M  \n",
      "\n",
      "[520661 rows x 33 columns]>\n"
     ]
    }
   ],
   "source": [
    "\n",
    "print(f\"The cleaned data frame size is {df.size}\")\n",
    "print(df.head)\n",
    "df.to_csv(\"data/2022complaints.csv\")"
   ]
  },
  {
   "cell_type": "code",
   "execution_count": 11,
   "metadata": {},
   "outputs": [],
   "source": [
    "# Remove rows with missing values in specified columns\n",
    "columns_with_missing_values = ['TRANSIT_DISTRICT', 'CMPLNT_TO_DT', 'PD_CD', \n",
    "                               'ADDR_PCT_CD', 'Lat_Lon', 'Longitude', \n",
    "                               'Y_COORD_CD', 'Latitude', 'X_COORD_CD']\n",
    "df.dropna(subset=columns_with_missing_values, inplace=True)\n",
    "\n",
    "# Drop the first two columns\n",
    "df.drop(df.columns[[0, 1]], axis=1, inplace=True)"
   ]
  },
  {
   "cell_type": "code",
   "execution_count": 12,
   "metadata": {},
   "outputs": [
    {
     "name": "stdout",
     "output_type": "stream",
     "text": [
      "The cleaned data frame size is 328879\n"
     ]
    }
   ],
   "source": [
    "print(f\"The cleaned data frame size is {df.size}\")\n",
    "df.to_csv(\"data/2022_final_clean_complaints.csv\")"
   ]
  },
  {
   "cell_type": "code",
   "execution_count": null,
   "metadata": {},
   "outputs": [],
   "source": []
  }
 ],
 "metadata": {
  "kernelspec": {
   "display_name": ".venv",
   "language": "python",
   "name": "python3"
  },
  "language_info": {
   "codemirror_mode": {
    "name": "ipython",
    "version": 3
   },
   "file_extension": ".py",
   "mimetype": "text/x-python",
   "name": "python",
   "nbconvert_exporter": "python",
   "pygments_lexer": "ipython3",
   "version": "3.11.5"
  }
 },
 "nbformat": 4,
 "nbformat_minor": 2
}
